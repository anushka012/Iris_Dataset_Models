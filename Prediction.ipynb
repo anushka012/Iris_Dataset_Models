{
  "nbformat": 4,
  "nbformat_minor": 0,
  "metadata": {
    "colab": {
      "name": "University practical ML.ipynb",
      "provenance": [],
      "authorship_tag": "ABX9TyNqttQ2WI4DBqiSnmgOUclk",
      "include_colab_link": true
    },
    "kernelspec": {
      "name": "python3",
      "display_name": "Python 3"
    },
    "language_info": {
      "name": "python"
    }
  },
  "cells": [
    {
      "cell_type": "markdown",
      "metadata": {
        "id": "view-in-github",
        "colab_type": "text"
      },
      "source": [
        "<a href=\"https://colab.research.google.com/github/anushka012/Iris_Dataset_Models/blob/main/Prediction.ipynb\" target=\"_parent\"><img src=\"https://colab.research.google.com/assets/colab-badge.svg\" alt=\"Open In Colab\"/></a>"
      ]
    },
    {
      "cell_type": "code",
      "metadata": {
        "colab": {
          "base_uri": "https://localhost:8080/"
        },
        "id": "8rB3Ja5EWJUT",
        "outputId": "d45d244d-1732-4e0a-a431-cc1b11ec69b9"
      },
      "source": [
        "#Python program to calculate the distance between the two points\n",
        "\n",
        "#Getting the input of points from the user\n",
        "x1 = float(input('Enter x1: '))\n",
        "y1 = float(input('Enter y1: '))\n",
        "x2 = float(input('Enter x2: '))\n",
        "y2 = float(input('Enter y2: '))\n",
        "\n",
        "#Calculating the distance between the two points\n",
        "d = ( (x2-x1)**2 + (y2-y1)**2 ) ** 0.5\n",
        "\n",
        "#Displaying the output, i.e, the distance between two points\n",
        "print('Distance between the two points = %f' %(d))"
      ],
      "execution_count": null,
      "outputs": [
        {
          "output_type": "stream",
          "name": "stdout",
          "text": [
            "Enter x1: 2\n",
            "Enter y1: 5\n",
            "Enter x2: 6\n",
            "Enter y2: 1\n",
            "Distance between the two points = 5.656854\n"
          ]
        }
      ]
    },
    {
      "cell_type": "code",
      "metadata": {
        "id": "ZyJxyVrPWQxC"
      },
      "source": [
        "from sklearn.linear_model import LogisticRegression"
      ],
      "execution_count": null,
      "outputs": []
    },
    {
      "cell_type": "code",
      "metadata": {
        "id": "SIzAQvR6WQzY"
      },
      "source": [
        "from sklearn.discriminant_analysis import LinearDiscriminantAnalysis\n",
        "from sklearn.neighbors import KNeighborsClassifier\n",
        "from sklearn.naive_bayes import GaussianNB\n",
        "from sklearn.tree import DecisionTreeClassifier\n",
        "from sklearn.svm import SVC"
      ],
      "execution_count": null,
      "outputs": []
    },
    {
      "cell_type": "code",
      "metadata": {
        "id": "nsymMTpyb_zw"
      },
      "source": [
        "logreg_clf = LogisticRegression()"
      ],
      "execution_count": null,
      "outputs": []
    },
    {
      "cell_type": "code",
      "metadata": {
        "id": "9vhjGI2Ab_6o"
      },
      "source": [
        "import pandas as pd\n",
        "from sklearn.metrics import classification_report\n",
        "from sklearn.metrics import confusion_matrix\n",
        "from sklearn.metrics import accuracy_score\n",
        "from sklearn.neighbors import KNeighborsClassifier\n",
        "from sklearn.svm import SVC"
      ],
      "execution_count": null,
      "outputs": []
    },
    {
      "cell_type": "code",
      "metadata": {
        "id": "fBpEDpPMdK44"
      },
      "source": [
        "from sklearn.model_selection import train_test_split"
      ],
      "execution_count": null,
      "outputs": []
    },
    {
      "cell_type": "code",
      "metadata": {
        "id": "mZS4V2T8b_9h"
      },
      "source": [
        "data = pd.read_csv('iris.csv')"
      ],
      "execution_count": null,
      "outputs": []
    },
    {
      "cell_type": "code",
      "metadata": {
        "colab": {
          "base_uri": "https://localhost:8080/",
          "height": 206
        },
        "id": "GD8qHYLNcAAo",
        "outputId": "9f6d72a1-af3b-46ca-940d-2eb6d7785661"
      },
      "source": [
        "data.head()"
      ],
      "execution_count": null,
      "outputs": [
        {
          "output_type": "execute_result",
          "data": {
            "text/html": [
              "<div>\n",
              "<style scoped>\n",
              "    .dataframe tbody tr th:only-of-type {\n",
              "        vertical-align: middle;\n",
              "    }\n",
              "\n",
              "    .dataframe tbody tr th {\n",
              "        vertical-align: top;\n",
              "    }\n",
              "\n",
              "    .dataframe thead th {\n",
              "        text-align: right;\n",
              "    }\n",
              "</style>\n",
              "<table border=\"1\" class=\"dataframe\">\n",
              "  <thead>\n",
              "    <tr style=\"text-align: right;\">\n",
              "      <th></th>\n",
              "      <th>Id</th>\n",
              "      <th>SepalLengthCm</th>\n",
              "      <th>SepalWidthCm</th>\n",
              "      <th>PetalLengthCm</th>\n",
              "      <th>PetalWidthCm</th>\n",
              "      <th>Species</th>\n",
              "    </tr>\n",
              "  </thead>\n",
              "  <tbody>\n",
              "    <tr>\n",
              "      <th>0</th>\n",
              "      <td>1</td>\n",
              "      <td>5.1</td>\n",
              "      <td>3.5</td>\n",
              "      <td>1.4</td>\n",
              "      <td>0.2</td>\n",
              "      <td>Iris-setosa</td>\n",
              "    </tr>\n",
              "    <tr>\n",
              "      <th>1</th>\n",
              "      <td>2</td>\n",
              "      <td>4.9</td>\n",
              "      <td>3.0</td>\n",
              "      <td>1.4</td>\n",
              "      <td>0.2</td>\n",
              "      <td>Iris-setosa</td>\n",
              "    </tr>\n",
              "    <tr>\n",
              "      <th>2</th>\n",
              "      <td>3</td>\n",
              "      <td>4.7</td>\n",
              "      <td>3.2</td>\n",
              "      <td>1.3</td>\n",
              "      <td>0.2</td>\n",
              "      <td>Iris-setosa</td>\n",
              "    </tr>\n",
              "    <tr>\n",
              "      <th>3</th>\n",
              "      <td>4</td>\n",
              "      <td>4.6</td>\n",
              "      <td>3.1</td>\n",
              "      <td>1.5</td>\n",
              "      <td>0.2</td>\n",
              "      <td>Iris-setosa</td>\n",
              "    </tr>\n",
              "    <tr>\n",
              "      <th>4</th>\n",
              "      <td>5</td>\n",
              "      <td>5.0</td>\n",
              "      <td>3.6</td>\n",
              "      <td>1.4</td>\n",
              "      <td>0.2</td>\n",
              "      <td>Iris-setosa</td>\n",
              "    </tr>\n",
              "  </tbody>\n",
              "</table>\n",
              "</div>"
            ],
            "text/plain": [
              "   Id  SepalLengthCm  SepalWidthCm  PetalLengthCm  PetalWidthCm      Species\n",
              "0   1            5.1           3.5            1.4           0.2  Iris-setosa\n",
              "1   2            4.9           3.0            1.4           0.2  Iris-setosa\n",
              "2   3            4.7           3.2            1.3           0.2  Iris-setosa\n",
              "3   4            4.6           3.1            1.5           0.2  Iris-setosa\n",
              "4   5            5.0           3.6            1.4           0.2  Iris-setosa"
            ]
          },
          "metadata": {},
          "execution_count": 12
        }
      ]
    },
    {
      "cell_type": "code",
      "metadata": {
        "id": "XZQjohJccsH2"
      },
      "source": [
        "data.drop('Id', axis=1, inplace=True)"
      ],
      "execution_count": null,
      "outputs": []
    },
    {
      "cell_type": "code",
      "metadata": {
        "id": "e0XWoF8wcsJ1"
      },
      "source": [
        "# Pandas \".iloc\" expects row_indexer, column_indexer  \n",
        "X = data.iloc[:,:-1].values"
      ],
      "execution_count": null,
      "outputs": []
    },
    {
      "cell_type": "code",
      "metadata": {
        "id": "gz-rd-ZjcsMN"
      },
      "source": [
        "# Now let's tell the dataframe which column we want for the target/labels.  \n",
        "y = data['Species']"
      ],
      "execution_count": null,
      "outputs": []
    },
    {
      "cell_type": "code",
      "metadata": {
        "id": "eg70xwJZc4nd"
      },
      "source": [
        "X_train, X_test, y_train, y_test = train_test_split(X, y, test_size=0.20, random_state=27)"
      ],
      "execution_count": null,
      "outputs": []
    },
    {
      "cell_type": "code",
      "metadata": {
        "colab": {
          "base_uri": "https://localhost:8080/"
        },
        "id": "HMdOlcgkc4qJ",
        "outputId": "3d4fec72-7a45-4c71-c870-42db4108cb48"
      },
      "source": [
        "print(X_train)  \n",
        "print(y_train)"
      ],
      "execution_count": null,
      "outputs": [
        {
          "output_type": "stream",
          "name": "stdout",
          "text": [
            "[[6.3 2.7 4.9 1.8]\n",
            " [5.  3.5 1.3 0.3]\n",
            " [6.4 2.7 5.3 1.9]\n",
            " [6.2 2.9 4.3 1.3]\n",
            " [6.7 3.1 4.7 1.5]\n",
            " [4.4 3.  1.3 0.2]\n",
            " [6.8 2.8 4.8 1.4]\n",
            " [6.3 2.5 5.  1.9]\n",
            " [5.8 2.7 3.9 1.2]\n",
            " [4.8 3.1 1.6 0.2]\n",
            " [4.6 3.4 1.4 0.3]\n",
            " [6.3 2.9 5.6 1.8]\n",
            " [5.9 3.2 4.8 1.8]\n",
            " [7.2 3.2 6.  1.8]\n",
            " [4.6 3.6 1.  0.2]\n",
            " [6.  2.9 4.5 1.5]\n",
            " [6.8 3.  5.5 2.1]\n",
            " [7.4 2.8 6.1 1.9]\n",
            " [6.1 2.9 4.7 1.4]\n",
            " [5.  3.5 1.6 0.6]\n",
            " [5.4 3.7 1.5 0.2]\n",
            " [5.1 3.5 1.4 0.2]\n",
            " [5.5 2.4 3.8 1.1]\n",
            " [5.2 3.5 1.5 0.2]\n",
            " [6.3 2.3 4.4 1.3]\n",
            " [5.7 3.8 1.7 0.3]\n",
            " [6.7 3.1 5.6 2.4]\n",
            " [4.8 3.4 1.6 0.2]\n",
            " [4.8 3.  1.4 0.3]\n",
            " [6.5 2.8 4.6 1.5]\n",
            " [5.8 2.7 5.1 1.9]\n",
            " [6.2 2.8 4.8 1.8]\n",
            " [5.7 3.  4.2 1.2]\n",
            " [7.1 3.  5.9 2.1]\n",
            " [6.7 3.3 5.7 2.5]\n",
            " [5.5 2.5 4.  1.3]\n",
            " [6.4 3.1 5.5 1.8]\n",
            " [6.4 2.8 5.6 2.2]\n",
            " [4.3 3.  1.1 0.1]\n",
            " [6.9 3.1 5.4 2.1]\n",
            " [5.  3.2 1.2 0.2]\n",
            " [6.5 3.  5.2 2. ]\n",
            " [6.7 3.3 5.7 2.1]\n",
            " [5.1 3.8 1.9 0.4]\n",
            " [4.9 2.4 3.3 1. ]\n",
            " [5.1 3.8 1.6 0.2]\n",
            " [5.  3.4 1.6 0.4]\n",
            " [5.8 4.  1.2 0.2]\n",
            " [5.8 2.7 4.1 1. ]\n",
            " [5.4 3.  4.5 1.5]\n",
            " [6.3 3.4 5.6 2.4]\n",
            " [6.3 3.3 6.  2.5]\n",
            " [4.5 2.3 1.3 0.3]\n",
            " [6.5 3.2 5.1 2. ]\n",
            " [4.9 3.  1.4 0.2]\n",
            " [6.6 3.  4.4 1.4]\n",
            " [5.8 2.8 5.1 2.4]\n",
            " [7.7 3.  6.1 2.3]\n",
            " [7.  3.2 4.7 1.4]\n",
            " [4.9 3.1 1.5 0.1]\n",
            " [5.9 3.  4.2 1.5]\n",
            " [6.8 3.2 5.9 2.3]\n",
            " [5.6 2.9 3.6 1.3]\n",
            " [5.8 2.7 5.1 1.9]\n",
            " [5.  2.  3.5 1. ]\n",
            " [6.2 2.2 4.5 1.5]\n",
            " [5.4 3.9 1.3 0.4]\n",
            " [6.1 2.8 4.7 1.2]\n",
            " [4.7 3.2 1.6 0.2]\n",
            " [4.4 2.9 1.4 0.2]\n",
            " [5.2 3.4 1.4 0.2]\n",
            " [5.  3.4 1.5 0.2]\n",
            " [7.2 3.6 6.1 2.5]\n",
            " [7.3 2.9 6.3 1.8]\n",
            " [5.1 3.5 1.4 0.3]\n",
            " [5.5 2.4 3.7 1. ]\n",
            " [6.9 3.1 4.9 1.5]\n",
            " [6.7 2.5 5.8 1.8]\n",
            " [5.1 3.3 1.7 0.5]\n",
            " [5.7 2.9 4.2 1.3]\n",
            " [5.6 2.8 4.9 2. ]\n",
            " [5.9 3.  5.1 1.8]\n",
            " [4.4 3.2 1.3 0.2]\n",
            " [5.4 3.9 1.7 0.4]\n",
            " [7.9 3.8 6.4 2. ]\n",
            " [5.7 2.8 4.1 1.3]\n",
            " [5.3 3.7 1.5 0.2]\n",
            " [6.1 2.6 5.6 1.4]\n",
            " [5.6 3.  4.5 1.5]\n",
            " [5.5 4.2 1.4 0.2]\n",
            " [6.  2.2 5.  1.5]\n",
            " [5.5 2.3 4.  1.3]\n",
            " [6.5 3.  5.8 2.2]\n",
            " [5.2 2.7 3.9 1.4]\n",
            " [5.1 3.4 1.5 0.2]\n",
            " [5.1 2.5 3.  1.1]\n",
            " [5.  2.3 3.3 1. ]\n",
            " [6.1 2.8 4.  1.3]\n",
            " [6.  2.2 4.  1. ]\n",
            " [7.7 2.6 6.9 2.3]\n",
            " [4.6 3.1 1.5 0.2]\n",
            " [6.4 3.2 4.5 1.5]\n",
            " [6.  3.4 4.5 1.6]\n",
            " [5.2 4.1 1.5 0.1]\n",
            " [5.7 2.6 3.5 1. ]\n",
            " [5.7 4.4 1.5 0.4]\n",
            " [6.  2.7 5.1 1.6]\n",
            " [5.  3.6 1.4 0.2]\n",
            " [6.  3.  4.8 1.8]\n",
            " [6.1 3.  4.9 1.8]\n",
            " [4.7 3.2 1.3 0.2]\n",
            " [5.7 2.5 5.  2. ]\n",
            " [6.9 3.1 5.1 2.3]\n",
            " [5.  3.  1.6 0.2]\n",
            " [4.8 3.4 1.9 0.2]\n",
            " [4.9 3.1 1.5 0.1]\n",
            " [6.3 3.3 4.7 1.6]\n",
            " [5.4 3.4 1.5 0.4]\n",
            " [6.3 2.5 4.9 1.5]\n",
            " [5.1 3.8 1.5 0.3]]\n",
            "123     Iris-virginica\n",
            "40         Iris-setosa\n",
            "111     Iris-virginica\n",
            "97     Iris-versicolor\n",
            "86     Iris-versicolor\n",
            "            ...       \n",
            "37         Iris-setosa\n",
            "56     Iris-versicolor\n",
            "31         Iris-setosa\n",
            "72     Iris-versicolor\n",
            "19         Iris-setosa\n",
            "Name: Species, Length: 120, dtype: object\n"
          ]
        }
      ]
    },
    {
      "cell_type": "code",
      "metadata": {
        "id": "F-039VhVdmpi"
      },
      "source": [
        "from sklearn import svm"
      ],
      "execution_count": null,
      "outputs": []
    },
    {
      "cell_type": "code",
      "metadata": {
        "id": "zPemFMd4c4sf"
      },
      "source": [
        "#Support Vector Classifier\n",
        "SVC_model = svm.SVC()"
      ],
      "execution_count": null,
      "outputs": []
    },
    {
      "cell_type": "code",
      "metadata": {
        "id": "ofzZObekc4uZ"
      },
      "source": [
        "#K-Nearest Neighbors Classifier\n",
        "KNN_model = KNeighborsClassifier(n_neighbors=5)"
      ],
      "execution_count": null,
      "outputs": []
    },
    {
      "cell_type": "code",
      "metadata": {
        "colab": {
          "base_uri": "https://localhost:8080/"
        },
        "id": "cIXjbLUuduJg",
        "outputId": "707727ce-7e5f-470c-ceb7-1593f1ac9cc1"
      },
      "source": [
        "#fit the classifiers\n",
        "SVC_model.fit(X_train, y_train)\n",
        "KNN_model.fit(X_train, y_train)"
      ],
      "execution_count": null,
      "outputs": [
        {
          "output_type": "execute_result",
          "data": {
            "text/plain": [
              "KNeighborsClassifier()"
            ]
          },
          "metadata": {},
          "execution_count": 26
        }
      ]
    },
    {
      "cell_type": "code",
      "metadata": {
        "id": "uqzA7wPAdy8D"
      },
      "source": [
        "SVC_prediction = SVC_model.predict(X_test)\n",
        "KNN_prediction = KNN_model.predict(X_test)"
      ],
      "execution_count": null,
      "outputs": []
    },
    {
      "cell_type": "code",
      "metadata": {
        "colab": {
          "base_uri": "https://localhost:8080/"
        },
        "id": "uiKuSs56d2tQ",
        "outputId": "2edd1839-6e06-4ec3-e044-a00f0398c28a"
      },
      "source": [
        "# Accuracy score\n",
        "print(\"SVC classifier accuracy:- \",accuracy_score(SVC_prediction, y_test))\n",
        "print(\"KNN classifier accuracy:- \",accuracy_score(KNN_prediction, y_test))"
      ],
      "execution_count": null,
      "outputs": [
        {
          "output_type": "stream",
          "name": "stdout",
          "text": [
            "SVC classifier accuracy:-  0.9333333333333333\n",
            "KNN classifier accuracy:-  0.9666666666666667\n"
          ]
        }
      ]
    },
    {
      "cell_type": "code",
      "metadata": {
        "colab": {
          "base_uri": "https://localhost:8080/"
        },
        "id": "tShcK2I0dzAe",
        "outputId": "3a0e94ed-adbf-49f5-9ba6-0678446894a5"
      },
      "source": [
        "#Confusion matrix\n",
        "print(confusion_matrix(SVC_prediction, y_test))"
      ],
      "execution_count": null,
      "outputs": [
        {
          "output_type": "stream",
          "name": "stdout",
          "text": [
            "[[ 7  0  0]\n",
            " [ 0 10  1]\n",
            " [ 0  1 11]]\n"
          ]
        }
      ]
    },
    {
      "cell_type": "code",
      "metadata": {
        "colab": {
          "base_uri": "https://localhost:8080/"
        },
        "id": "4SpVX1CSeMEN",
        "outputId": "6ddb0ff6-6930-404c-99fd-a79ff76d4d64"
      },
      "source": [
        "#classification report\n",
        "print(classification_report(KNN_prediction, y_test))"
      ],
      "execution_count": null,
      "outputs": [
        {
          "output_type": "stream",
          "name": "stdout",
          "text": [
            "                 precision    recall  f1-score   support\n",
            "\n",
            "    Iris-setosa       1.00      1.00      1.00         7\n",
            "Iris-versicolor       1.00      0.92      0.96        12\n",
            " Iris-virginica       0.92      1.00      0.96        11\n",
            "\n",
            "       accuracy                           0.97        30\n",
            "      macro avg       0.97      0.97      0.97        30\n",
            "   weighted avg       0.97      0.97      0.97        30\n",
            "\n"
          ]
        }
      ]
    },
    {
      "cell_type": "code",
      "metadata": {
        "id": "XqhepT4BeVri"
      },
      "source": [
        ""
      ],
      "execution_count": null,
      "outputs": []
    }
  ]
}